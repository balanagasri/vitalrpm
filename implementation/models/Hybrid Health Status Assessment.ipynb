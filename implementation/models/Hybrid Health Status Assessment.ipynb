{
 "cells": [
  {
   "cell_type": "markdown",
   "id": "7b9d1b76",
   "metadata": {},
   "source": [
    "## Import the necessary libraries"
   ]
  },
  {
   "cell_type": "code",
   "execution_count": 71,
   "id": "a73c3fae",
   "metadata": {
    "scrolled": false
   },
   "outputs": [],
   "source": [
    "import pandas as pd                                    #Data Manipulation library\n",
    "import numpy as np                                     #Numerical Computing library\n",
    "import matplotlib.pyplot as plt                        #Data Visualization library\n",
    "import seaborn as sns                                  #Data Visualization library built on top of Matplotlib\n",
    "from sklearn.preprocessing import MinMaxScaler         #Feature scaling method\n",
    "from sklearn.impute import SimpleImputer               #Handling missing data\n",
    "import joblib                                          #Importing & Exporting Model/Parameters\n",
    "\n",
    "#Splitting datasets into training and testing sets\n",
    "from sklearn.model_selection import train_test_split   \n",
    "\n",
    "#Evaluation metrics for machine learning models\n",
    "from sklearn.metrics import confusion_matrix, accuracy_score, recall_score, precision_score, classification_report "
   ]
  },
  {
   "cell_type": "markdown",
   "id": "eb5132cd",
   "metadata": {},
   "source": [
    "## Load Datasets"
   ]
  },
  {
   "cell_type": "code",
   "execution_count": 2,
   "id": "920d7f48",
   "metadata": {
    "scrolled": false
   },
   "outputs": [],
   "source": [
    "triage_data = pd.read_csv('./dataset/triage.csv')\n",
    "edstays_data = pd.read_csv('./dataset/edstays.csv')"
   ]
  },
  {
   "cell_type": "code",
   "execution_count": 3,
   "id": "1a104702",
   "metadata": {
    "scrolled": false
   },
   "outputs": [],
   "source": [
    "# Merge the two datasets on the 'subject_id' and 'stay_id' columns\n",
    "merged_dataset = pd.merge(triage_data, edstays_data[['subject_id','stay_id','intime','disposition']], on=['subject_id','stay_id'])"
   ]
  },
  {
   "cell_type": "code",
   "execution_count": 4,
   "id": "920df174",
   "metadata": {
    "scrolled": true
   },
   "outputs": [
    {
     "data": {
      "text/html": [
       "<div>\n",
       "<style scoped>\n",
       "    .dataframe tbody tr th:only-of-type {\n",
       "        vertical-align: middle;\n",
       "    }\n",
       "\n",
       "    .dataframe tbody tr th {\n",
       "        vertical-align: top;\n",
       "    }\n",
       "\n",
       "    .dataframe thead th {\n",
       "        text-align: right;\n",
       "    }\n",
       "</style>\n",
       "<table border=\"1\" class=\"dataframe\">\n",
       "  <thead>\n",
       "    <tr style=\"text-align: right;\">\n",
       "      <th></th>\n",
       "      <th>subject_id</th>\n",
       "      <th>stay_id</th>\n",
       "      <th>temperature</th>\n",
       "      <th>heartrate</th>\n",
       "      <th>resprate</th>\n",
       "      <th>o2sat</th>\n",
       "      <th>sbp</th>\n",
       "      <th>dbp</th>\n",
       "      <th>pain</th>\n",
       "      <th>acuity</th>\n",
       "      <th>chiefcomplaint</th>\n",
       "      <th>intime</th>\n",
       "      <th>disposition</th>\n",
       "    </tr>\n",
       "  </thead>\n",
       "  <tbody>\n",
       "    <tr>\n",
       "      <th>0</th>\n",
       "      <td>10000032</td>\n",
       "      <td>32952584</td>\n",
       "      <td>97.8</td>\n",
       "      <td>87.0</td>\n",
       "      <td>14.0</td>\n",
       "      <td>97.0</td>\n",
       "      <td>71.0</td>\n",
       "      <td>43.0</td>\n",
       "      <td>7</td>\n",
       "      <td>2.0</td>\n",
       "      <td>Hypotension</td>\n",
       "      <td>2180-07-22 16:24:00</td>\n",
       "      <td>HOME</td>\n",
       "    </tr>\n",
       "    <tr>\n",
       "      <th>1</th>\n",
       "      <td>10000032</td>\n",
       "      <td>33258284</td>\n",
       "      <td>98.4</td>\n",
       "      <td>70.0</td>\n",
       "      <td>16.0</td>\n",
       "      <td>97.0</td>\n",
       "      <td>106.0</td>\n",
       "      <td>63.0</td>\n",
       "      <td>0</td>\n",
       "      <td>3.0</td>\n",
       "      <td>Abd pain, Abdominal distention</td>\n",
       "      <td>2180-05-06 19:17:00</td>\n",
       "      <td>ADMITTED</td>\n",
       "    </tr>\n",
       "    <tr>\n",
       "      <th>2</th>\n",
       "      <td>10000032</td>\n",
       "      <td>35968195</td>\n",
       "      <td>99.4</td>\n",
       "      <td>105.0</td>\n",
       "      <td>18.0</td>\n",
       "      <td>96.0</td>\n",
       "      <td>106.0</td>\n",
       "      <td>57.0</td>\n",
       "      <td>10</td>\n",
       "      <td>3.0</td>\n",
       "      <td>n/v/d, Abd pain</td>\n",
       "      <td>2180-08-05 20:58:00</td>\n",
       "      <td>ADMITTED</td>\n",
       "    </tr>\n",
       "    <tr>\n",
       "      <th>3</th>\n",
       "      <td>10000032</td>\n",
       "      <td>38112554</td>\n",
       "      <td>98.9</td>\n",
       "      <td>88.0</td>\n",
       "      <td>18.0</td>\n",
       "      <td>97.0</td>\n",
       "      <td>116.0</td>\n",
       "      <td>88.0</td>\n",
       "      <td>10</td>\n",
       "      <td>3.0</td>\n",
       "      <td>Abdominal distention</td>\n",
       "      <td>2180-06-26 15:54:00</td>\n",
       "      <td>ADMITTED</td>\n",
       "    </tr>\n",
       "    <tr>\n",
       "      <th>4</th>\n",
       "      <td>10000032</td>\n",
       "      <td>39399961</td>\n",
       "      <td>98.7</td>\n",
       "      <td>77.0</td>\n",
       "      <td>16.0</td>\n",
       "      <td>98.0</td>\n",
       "      <td>96.0</td>\n",
       "      <td>50.0</td>\n",
       "      <td>13</td>\n",
       "      <td>2.0</td>\n",
       "      <td>Abdominal distention, Abd pain, LETHAGIC</td>\n",
       "      <td>2180-07-23 05:54:00</td>\n",
       "      <td>ADMITTED</td>\n",
       "    </tr>\n",
       "  </tbody>\n",
       "</table>\n",
       "</div>"
      ],
      "text/plain": [
       "   subject_id   stay_id  temperature  heartrate  resprate  o2sat    sbp   dbp  \\\n",
       "0    10000032  32952584         97.8       87.0      14.0   97.0   71.0  43.0   \n",
       "1    10000032  33258284         98.4       70.0      16.0   97.0  106.0  63.0   \n",
       "2    10000032  35968195         99.4      105.0      18.0   96.0  106.0  57.0   \n",
       "3    10000032  38112554         98.9       88.0      18.0   97.0  116.0  88.0   \n",
       "4    10000032  39399961         98.7       77.0      16.0   98.0   96.0  50.0   \n",
       "\n",
       "  pain  acuity                            chiefcomplaint               intime  \\\n",
       "0    7     2.0                               Hypotension  2180-07-22 16:24:00   \n",
       "1    0     3.0            Abd pain, Abdominal distention  2180-05-06 19:17:00   \n",
       "2   10     3.0                           n/v/d, Abd pain  2180-08-05 20:58:00   \n",
       "3   10     3.0                      Abdominal distention  2180-06-26 15:54:00   \n",
       "4   13     2.0  Abdominal distention, Abd pain, LETHAGIC  2180-07-23 05:54:00   \n",
       "\n",
       "  disposition  \n",
       "0        HOME  \n",
       "1    ADMITTED  \n",
       "2    ADMITTED  \n",
       "3    ADMITTED  \n",
       "4    ADMITTED  "
      ]
     },
     "execution_count": 4,
     "metadata": {},
     "output_type": "execute_result"
    }
   ],
   "source": [
    "merged_dataset.head()"
   ]
  },
  {
   "cell_type": "code",
   "execution_count": 34,
   "id": "cf78a108",
   "metadata": {
    "scrolled": false
   },
   "outputs": [],
   "source": [
    "dataset = merged_dataset[[\"temperature\", \"heartrate\", \"resprate\", \"o2sat\", \"sbp\", \"dbp\", \"pain\",\"acuity\"]]"
   ]
  },
  {
   "cell_type": "code",
   "execution_count": 35,
   "id": "53450bbd",
   "metadata": {
    "scrolled": true
   },
   "outputs": [
    {
     "name": "stdout",
     "output_type": "stream",
     "text": [
      "Data count before:  425087\n"
     ]
    }
   ],
   "source": [
    "# Count the amount of data before preprocessing\n",
    "count_before = len(dataset)\n",
    "print(\"Data count before: \", count_before)"
   ]
  },
  {
   "cell_type": "markdown",
   "id": "ce85ef0e",
   "metadata": {},
   "source": [
    "## Data Pre-processing"
   ]
  },
  {
   "cell_type": "markdown",
   "id": "cab781e8",
   "metadata": {},
   "source": [
    "### Drop Null Values"
   ]
  },
  {
   "cell_type": "code",
   "execution_count": 36,
   "id": "473163d4",
   "metadata": {
    "collapsed": true
   },
   "outputs": [
    {
     "name": "stderr",
     "output_type": "stream",
     "text": [
      "C:\\Users\\hamma\\AppData\\Local\\Temp\\ipykernel_8128\\333416206.py:1: SettingWithCopyWarning: \n",
      "A value is trying to be set on a copy of a slice from a DataFrame\n",
      "\n",
      "See the caveats in the documentation: https://pandas.pydata.org/pandas-docs/stable/user_guide/indexing.html#returning-a-view-versus-a-copy\n",
      "  dataset.dropna(axis=0, how='any', inplace=True)\n"
     ]
    }
   ],
   "source": [
    "dataset.dropna(axis=0, how='any', inplace=True)"
   ]
  },
  {
   "cell_type": "markdown",
   "id": "6f658798",
   "metadata": {},
   "source": [
    "### Check for Non-numeric Data"
   ]
  },
  {
   "cell_type": "code",
   "execution_count": 37,
   "id": "e458d9d6",
   "metadata": {},
   "outputs": [
    {
     "name": "stdout",
     "output_type": "stream",
     "text": [
      "pain contains non-numeric data.\n"
     ]
    }
   ],
   "source": [
    "for column in dataset.columns:\n",
    "    try:\n",
    "        pd.to_numeric(dataset[column])\n",
    "    except ValueError:\n",
    "        print(f\"{column} contains non-numeric data.\")"
   ]
  },
  {
   "cell_type": "markdown",
   "id": "e203601a",
   "metadata": {},
   "source": [
    "### Cleaning Random Text Values from pain Column"
   ]
  },
  {
   "cell_type": "code",
   "execution_count": 38,
   "id": "befd5816",
   "metadata": {
    "scrolled": false
   },
   "outputs": [],
   "source": [
    "mask = dataset['pain'].str.contains('___') #De-identified data\n",
    "\n",
    "deidentified_rows = dataset[mask].index\n",
    "dataset = dataset.drop(index=deidentified_rows)\n",
    "\n",
    "dataset['pain'] = pd.to_numeric(dataset['pain'], errors='coerce') # Removing random text values from column\n",
    "dataset.dropna(subset=['pain'], inplace=True)"
   ]
  },
  {
   "cell_type": "code",
   "execution_count": 11,
   "id": "aba17327",
   "metadata": {
    "scrolled": false
   },
   "outputs": [
    {
     "data": {
      "text/html": [
       "<div>\n",
       "<style scoped>\n",
       "    .dataframe tbody tr th:only-of-type {\n",
       "        vertical-align: middle;\n",
       "    }\n",
       "\n",
       "    .dataframe tbody tr th {\n",
       "        vertical-align: top;\n",
       "    }\n",
       "\n",
       "    .dataframe thead th {\n",
       "        text-align: right;\n",
       "    }\n",
       "</style>\n",
       "<table border=\"1\" class=\"dataframe\">\n",
       "  <thead>\n",
       "    <tr style=\"text-align: right;\">\n",
       "      <th></th>\n",
       "      <th>temperature</th>\n",
       "      <th>heartrate</th>\n",
       "      <th>resprate</th>\n",
       "      <th>o2sat</th>\n",
       "      <th>sbp</th>\n",
       "      <th>dbp</th>\n",
       "      <th>pain</th>\n",
       "      <th>acuity</th>\n",
       "    </tr>\n",
       "  </thead>\n",
       "  <tbody>\n",
       "    <tr>\n",
       "      <th>0</th>\n",
       "      <td>97.8</td>\n",
       "      <td>87.0</td>\n",
       "      <td>14.0</td>\n",
       "      <td>97.0</td>\n",
       "      <td>71.0</td>\n",
       "      <td>43.0</td>\n",
       "      <td>7.0</td>\n",
       "      <td>2.0</td>\n",
       "    </tr>\n",
       "    <tr>\n",
       "      <th>1</th>\n",
       "      <td>98.4</td>\n",
       "      <td>70.0</td>\n",
       "      <td>16.0</td>\n",
       "      <td>97.0</td>\n",
       "      <td>106.0</td>\n",
       "      <td>63.0</td>\n",
       "      <td>0.0</td>\n",
       "      <td>3.0</td>\n",
       "    </tr>\n",
       "    <tr>\n",
       "      <th>2</th>\n",
       "      <td>99.4</td>\n",
       "      <td>105.0</td>\n",
       "      <td>18.0</td>\n",
       "      <td>96.0</td>\n",
       "      <td>106.0</td>\n",
       "      <td>57.0</td>\n",
       "      <td>10.0</td>\n",
       "      <td>3.0</td>\n",
       "    </tr>\n",
       "    <tr>\n",
       "      <th>3</th>\n",
       "      <td>98.9</td>\n",
       "      <td>88.0</td>\n",
       "      <td>18.0</td>\n",
       "      <td>97.0</td>\n",
       "      <td>116.0</td>\n",
       "      <td>88.0</td>\n",
       "      <td>10.0</td>\n",
       "      <td>3.0</td>\n",
       "    </tr>\n",
       "    <tr>\n",
       "      <th>4</th>\n",
       "      <td>98.7</td>\n",
       "      <td>77.0</td>\n",
       "      <td>16.0</td>\n",
       "      <td>98.0</td>\n",
       "      <td>96.0</td>\n",
       "      <td>50.0</td>\n",
       "      <td>13.0</td>\n",
       "      <td>2.0</td>\n",
       "    </tr>\n",
       "  </tbody>\n",
       "</table>\n",
       "</div>"
      ],
      "text/plain": [
       "   temperature  heartrate  resprate  o2sat    sbp   dbp  pain  acuity\n",
       "0         97.8       87.0      14.0   97.0   71.0  43.0   7.0     2.0\n",
       "1         98.4       70.0      16.0   97.0  106.0  63.0   0.0     3.0\n",
       "2         99.4      105.0      18.0   96.0  106.0  57.0  10.0     3.0\n",
       "3         98.9       88.0      18.0   97.0  116.0  88.0  10.0     3.0\n",
       "4         98.7       77.0      16.0   98.0   96.0  50.0  13.0     2.0"
      ]
     },
     "execution_count": 11,
     "metadata": {},
     "output_type": "execute_result"
    }
   ],
   "source": [
    "dataset.head(5)"
   ]
  },
  {
   "cell_type": "markdown",
   "id": "bbed3f46",
   "metadata": {},
   "source": [
    "### Data Normalization"
   ]
  },
  {
   "cell_type": "code",
   "execution_count": 39,
   "id": "9973b0b9",
   "metadata": {
    "scrolled": false
   },
   "outputs": [],
   "source": [
    "# Normalization\n",
    "scaler = MinMaxScaler()\n",
    "columns = [\"temperature\", \"heartrate\", \"resprate\", \"o2sat\", \"sbp\", \"dbp\", \"pain\"]\n",
    "dataset[columns] = scaler.fit_transform(dataset[columns])"
   ]
  },
  {
   "cell_type": "code",
   "execution_count": 72,
   "id": "373614ef",
   "metadata": {
    "scrolled": true
   },
   "outputs": [
    {
     "data": {
      "text/plain": [
       "['minmax.joblib']"
      ]
     },
     "execution_count": 72,
     "metadata": {},
     "output_type": "execute_result"
    }
   ],
   "source": [
    "min_value, max_value = scaler.data_min_, scaler.data_max_\n",
    "joblib.dump((min_value, max_value), 'minmax.joblib')"
   ]
  },
  {
   "cell_type": "code",
   "execution_count": 40,
   "id": "16845320",
   "metadata": {
    "scrolled": false
   },
   "outputs": [
    {
     "data": {
      "text/html": [
       "<div>\n",
       "<style scoped>\n",
       "    .dataframe tbody tr th:only-of-type {\n",
       "        vertical-align: middle;\n",
       "    }\n",
       "\n",
       "    .dataframe tbody tr th {\n",
       "        vertical-align: top;\n",
       "    }\n",
       "\n",
       "    .dataframe thead th {\n",
       "        text-align: right;\n",
       "    }\n",
       "</style>\n",
       "<table border=\"1\" class=\"dataframe\">\n",
       "  <thead>\n",
       "    <tr style=\"text-align: right;\">\n",
       "      <th></th>\n",
       "      <th>temperature</th>\n",
       "      <th>heartrate</th>\n",
       "      <th>resprate</th>\n",
       "      <th>o2sat</th>\n",
       "      <th>sbp</th>\n",
       "      <th>dbp</th>\n",
       "      <th>pain</th>\n",
       "      <th>acuity</th>\n",
       "    </tr>\n",
       "  </thead>\n",
       "  <tbody>\n",
       "    <tr>\n",
       "      <th>0</th>\n",
       "      <td>0.099097</td>\n",
       "      <td>0.077617</td>\n",
       "      <td>0.007692</td>\n",
       "      <td>0.010405</td>\n",
       "      <td>0.003345</td>\n",
       "      <td>0.000065</td>\n",
       "      <td>0.059259</td>\n",
       "      <td>2.0</td>\n",
       "    </tr>\n",
       "    <tr>\n",
       "      <th>1</th>\n",
       "      <td>0.099706</td>\n",
       "      <td>0.062274</td>\n",
       "      <td>0.008791</td>\n",
       "      <td>0.010405</td>\n",
       "      <td>0.005119</td>\n",
       "      <td>0.000095</td>\n",
       "      <td>0.007407</td>\n",
       "      <td>3.0</td>\n",
       "    </tr>\n",
       "    <tr>\n",
       "      <th>2</th>\n",
       "      <td>0.100720</td>\n",
       "      <td>0.093863</td>\n",
       "      <td>0.009890</td>\n",
       "      <td>0.010298</td>\n",
       "      <td>0.005119</td>\n",
       "      <td>0.000086</td>\n",
       "      <td>0.081481</td>\n",
       "      <td>3.0</td>\n",
       "    </tr>\n",
       "    <tr>\n",
       "      <th>3</th>\n",
       "      <td>0.100213</td>\n",
       "      <td>0.078520</td>\n",
       "      <td>0.009890</td>\n",
       "      <td>0.010405</td>\n",
       "      <td>0.005626</td>\n",
       "      <td>0.000133</td>\n",
       "      <td>0.081481</td>\n",
       "      <td>3.0</td>\n",
       "    </tr>\n",
       "    <tr>\n",
       "      <th>4</th>\n",
       "      <td>0.100010</td>\n",
       "      <td>0.068592</td>\n",
       "      <td>0.008791</td>\n",
       "      <td>0.010513</td>\n",
       "      <td>0.004612</td>\n",
       "      <td>0.000076</td>\n",
       "      <td>0.103704</td>\n",
       "      <td>2.0</td>\n",
       "    </tr>\n",
       "  </tbody>\n",
       "</table>\n",
       "</div>"
      ],
      "text/plain": [
       "   temperature  heartrate  resprate     o2sat       sbp       dbp      pain  \\\n",
       "0     0.099097   0.077617  0.007692  0.010405  0.003345  0.000065  0.059259   \n",
       "1     0.099706   0.062274  0.008791  0.010405  0.005119  0.000095  0.007407   \n",
       "2     0.100720   0.093863  0.009890  0.010298  0.005119  0.000086  0.081481   \n",
       "3     0.100213   0.078520  0.009890  0.010405  0.005626  0.000133  0.081481   \n",
       "4     0.100010   0.068592  0.008791  0.010513  0.004612  0.000076  0.103704   \n",
       "\n",
       "   acuity  \n",
       "0     2.0  \n",
       "1     3.0  \n",
       "2     3.0  \n",
       "3     3.0  \n",
       "4     2.0  "
      ]
     },
     "execution_count": 40,
     "metadata": {},
     "output_type": "execute_result"
    }
   ],
   "source": [
    "dataset.head(5)"
   ]
  },
  {
   "cell_type": "code",
   "execution_count": 41,
   "id": "b88718e3",
   "metadata": {
    "scrolled": false
   },
   "outputs": [
    {
     "name": "stdout",
     "output_type": "stream",
     "text": [
      "Data after normalization:  380155\n"
     ]
    }
   ],
   "source": [
    "# Count the amount of data after preprocessing\n",
    "count_after = len(dataset)\n",
    "print(\"Data after normalization: \", count_after)"
   ]
  },
  {
   "cell_type": "markdown",
   "id": "5de367b9",
   "metadata": {},
   "source": [
    "## Checking Dataset for Imbalance"
   ]
  },
  {
   "cell_type": "code",
   "execution_count": 42,
   "id": "ce5c0e65",
   "metadata": {
    "scrolled": true
   },
   "outputs": [
    {
     "name": "stdout",
     "output_type": "stream",
     "text": [
      "Float64Index([3.0, 2.0, 4.0, 1.0, 5.0], dtype='float64')\n",
      "[56.13341926 33.12490958  7.18917284  3.28208231  0.27041601]\n"
     ]
    },
    {
     "data": {
      "image/png": "[encoded data removed]",
      "text/plain": [
       "<Figure size 432x288 with 1 Axes>"
      ]
     },
     "metadata": {
      "needs_background": "light"
     },
     "output_type": "display_data"
    }
   ],
   "source": [
    "# Get the value counts for the target column\n",
    "target_counts = dataset['acuity'].value_counts()\n",
    "\n",
    "# Calculate the percentage of data points for each class\n",
    "target_percentage = target_counts / dataset.shape[0] * 100\n",
    "\n",
    "# Plot the distribution using seaborn\n",
    "sns.barplot(x=target_percentage.index, y=target_percentage.values)\n",
    "\n",
    "print(target_percentage.index)\n",
    "print(target_percentage.values)\n",
    "\n",
    "plt.xlabel('Target Classes')\n",
    "plt.ylabel('Percentage of Data Points (%)')\n",
    "plt.show()"
   ]
  },
  {
   "cell_type": "markdown",
   "id": "b9e0d31a",
   "metadata": {},
   "source": [
    "Dataset is imbalanced. However performing oversampling or undersampling will heavily reduce model accuracy to the 20s.<br>\n",
    "\n",
    "Will be performing a combination of oversampling and undersampling although this will not balance the data, we just want to improve the accuracy of successfully classifying classes 1 and classes 5 under the target column."
   ]
  },
  {
   "cell_type": "markdown",
   "id": "392085c5",
   "metadata": {},
   "source": [
    "## Combination Sampling"
   ]
  },
  {
   "cell_type": "markdown",
   "id": "93bff8bd",
   "metadata": {},
   "source": [
    "Combining over-sampling and under-sampling methods for imbalanced datasets"
   ]
  },
  {
   "cell_type": "code",
   "execution_count": 43,
   "id": "5bd09687",
   "metadata": {
    "scrolled": false
   },
   "outputs": [],
   "source": [
    "from imblearn.combine import SMOTEENN "
   ]
  },
  {
   "cell_type": "code",
   "execution_count": 44,
   "id": "8bfe0881",
   "metadata": {
    "scrolled": false
   },
   "outputs": [],
   "source": [
    "# Get the features and target columns\n",
    "X = dataset[['temperature','heartrate','resprate','o2sat','sbp','dbp','pain']]\n",
    "y = dataset['acuity']"
   ]
  },
  {
   "cell_type": "code",
   "execution_count": 45,
   "id": "e8c2935a",
   "metadata": {
    "scrolled": true
   },
   "outputs": [],
   "source": [
    "# Perform SMOTE and ENN\n",
    "smote_enn = SMOTEENN(sampling_strategy='not majority')\n",
    "X_resampled, y_resampled = smote_enn.fit_resample(X, y)"
   ]
  },
  {
   "cell_type": "code",
   "execution_count": 46,
   "id": "40412592",
   "metadata": {
    "scrolled": false
   },
   "outputs": [],
   "source": [
    "# Combine the resampled features and target into a new DataFrame\n",
    "dataset_resampled = pd.DataFrame(np.column_stack([X_resampled, y_resampled]), columns=dataset.columns)"
   ]
  },
  {
   "cell_type": "code",
   "execution_count": 47,
   "id": "67362cc9",
   "metadata": {
    "scrolled": true
   },
   "outputs": [
    {
     "data": {
      "image/png": "[encoded data removed]",
      "text/plain": [
       "<Figure size 432x288 with 1 Axes>"
      ]
     },
     "metadata": {
      "needs_background": "light"
     },
     "output_type": "display_data"
    }
   ],
   "source": [
    "# Get the value counts for the target column\n",
    "target_counts = dataset_resampled['acuity'].value_counts()\n",
    "\n",
    "# Calculate the percentage of data points for each class\n",
    "target_percentage = target_counts / dataset_resampled.shape[0] * 100\n",
    "\n",
    "# Plot the distribution using seaborn\n",
    "sns.barplot(x=target_percentage.index, y=target_percentage.values)\n",
    "plt.xlabel('Target Classes')\n",
    "plt.ylabel('Percentage of Data Points (%)')\n",
    "plt.show()"
   ]
  },
  {
   "cell_type": "code",
   "execution_count": 48,
   "id": "16f971d7",
   "metadata": {
    "scrolled": false
   },
   "outputs": [
    {
     "name": "stdout",
     "output_type": "stream",
     "text": [
      "Data count after sampling:  629738\n"
     ]
    }
   ],
   "source": [
    "# Count the amount of data after preprocessing\n",
    "count = len(dataset_resampled)\n",
    "print(\"Data count after sampling: \", count)"
   ]
  },
  {
   "cell_type": "code",
   "execution_count": 49,
   "id": "6403069d",
   "metadata": {
    "scrolled": true
   },
   "outputs": [
    {
     "data": {
      "text/html": [
       "<div>\n",
       "<style scoped>\n",
       "    .dataframe tbody tr th:only-of-type {\n",
       "        vertical-align: middle;\n",
       "    }\n",
       "\n",
       "    .dataframe tbody tr th {\n",
       "        vertical-align: top;\n",
       "    }\n",
       "\n",
       "    .dataframe thead th {\n",
       "        text-align: right;\n",
       "    }\n",
       "</style>\n",
       "<table border=\"1\" class=\"dataframe\">\n",
       "  <thead>\n",
       "    <tr style=\"text-align: right;\">\n",
       "      <th></th>\n",
       "      <th>temperature</th>\n",
       "      <th>heartrate</th>\n",
       "      <th>resprate</th>\n",
       "      <th>o2sat</th>\n",
       "      <th>sbp</th>\n",
       "      <th>dbp</th>\n",
       "      <th>pain</th>\n",
       "      <th>acuity</th>\n",
       "    </tr>\n",
       "  </thead>\n",
       "  <tbody>\n",
       "    <tr>\n",
       "      <th>0</th>\n",
       "      <td>0.097272</td>\n",
       "      <td>0.099278</td>\n",
       "      <td>0.010989</td>\n",
       "      <td>0.010727</td>\n",
       "      <td>0.004156</td>\n",
       "      <td>0.000097</td>\n",
       "      <td>0.044444</td>\n",
       "      <td>1.0</td>\n",
       "    </tr>\n",
       "    <tr>\n",
       "      <th>1</th>\n",
       "      <td>0.100720</td>\n",
       "      <td>0.073105</td>\n",
       "      <td>0.007692</td>\n",
       "      <td>0.010727</td>\n",
       "      <td>0.003751</td>\n",
       "      <td>0.000071</td>\n",
       "      <td>0.081481</td>\n",
       "      <td>1.0</td>\n",
       "    </tr>\n",
       "    <tr>\n",
       "      <th>2</th>\n",
       "      <td>0.098894</td>\n",
       "      <td>0.065884</td>\n",
       "      <td>0.009890</td>\n",
       "      <td>0.010727</td>\n",
       "      <td>0.008059</td>\n",
       "      <td>0.000122</td>\n",
       "      <td>0.007407</td>\n",
       "      <td>1.0</td>\n",
       "    </tr>\n",
       "    <tr>\n",
       "      <th>3</th>\n",
       "      <td>0.099604</td>\n",
       "      <td>0.091155</td>\n",
       "      <td>0.009890</td>\n",
       "      <td>0.010405</td>\n",
       "      <td>0.003497</td>\n",
       "      <td>0.000068</td>\n",
       "      <td>0.103704</td>\n",
       "      <td>1.0</td>\n",
       "    </tr>\n",
       "    <tr>\n",
       "      <th>4</th>\n",
       "      <td>0.098996</td>\n",
       "      <td>0.057762</td>\n",
       "      <td>0.009890</td>\n",
       "      <td>0.010727</td>\n",
       "      <td>0.006488</td>\n",
       "      <td>0.000101</td>\n",
       "      <td>0.007407</td>\n",
       "      <td>1.0</td>\n",
       "    </tr>\n",
       "  </tbody>\n",
       "</table>\n",
       "</div>"
      ],
      "text/plain": [
       "   temperature  heartrate  resprate     o2sat       sbp       dbp      pain  \\\n",
       "0     0.097272   0.099278  0.010989  0.010727  0.004156  0.000097  0.044444   \n",
       "1     0.100720   0.073105  0.007692  0.010727  0.003751  0.000071  0.081481   \n",
       "2     0.098894   0.065884  0.009890  0.010727  0.008059  0.000122  0.007407   \n",
       "3     0.099604   0.091155  0.009890  0.010405  0.003497  0.000068  0.103704   \n",
       "4     0.098996   0.057762  0.009890  0.010727  0.006488  0.000101  0.007407   \n",
       "\n",
       "   acuity  \n",
       "0     1.0  \n",
       "1     1.0  \n",
       "2     1.0  \n",
       "3     1.0  \n",
       "4     1.0  "
      ]
     },
     "execution_count": 49,
     "metadata": {},
     "output_type": "execute_result"
    }
   ],
   "source": [
    "dataset_resampled.head()"
   ]
  },
  {
   "cell_type": "code",
   "execution_count": 50,
   "id": "6a3366f1",
   "metadata": {
    "scrolled": true
   },
   "outputs": [],
   "source": [
    "dataset_resampled.to_csv('./dataset/preprocessed_classif_data.csv', index=False)"
   ]
  },
  {
   "cell_type": "markdown",
   "id": "efb0e5d1",
   "metadata": {},
   "source": [
    "---"
   ]
  },
  {
   "cell_type": "markdown",
   "id": "229ff4ef",
   "metadata": {},
   "source": [
    "# Load Preprocessed Data"
   ]
  },
  {
   "cell_type": "code",
   "execution_count": 51,
   "id": "e89d325d",
   "metadata": {
    "scrolled": false
   },
   "outputs": [],
   "source": [
    "classif_dataset = pd.read_csv('./dataset/preprocessed_classif_data.csv')"
   ]
  },
  {
   "cell_type": "markdown",
   "id": "0febd7de",
   "metadata": {},
   "source": [
    "## Data Split - Diagnostic Stage"
   ]
  },
  {
   "cell_type": "code",
   "execution_count": 61,
   "id": "c58bd3cc",
   "metadata": {
    "scrolled": true
   },
   "outputs": [],
   "source": [
    "# Define the features and the target for the diagnostic stage\n",
    "x_diagnosis = classif_dataset[['temperature','heartrate','resprate','o2sat','sbp','dbp','pain']]\n",
    "y_diagnosis = classif_dataset['acuity']"
   ]
  },
  {
   "cell_type": "code",
   "execution_count": 62,
   "id": "4754f8a5",
   "metadata": {
    "scrolled": true
   },
   "outputs": [],
   "source": [
    "# Split the data into train and test sets\n",
    "X_train, X_test, y_train, y_test = train_test_split(x_diagnosis, y_diagnosis, test_size=0.2, random_state=42)"
   ]
  },
  {
   "cell_type": "markdown",
   "id": "ced26de2",
   "metadata": {},
   "source": [
    "## Voting Classifier\n",
    "\n",
    "The voting classifier combines the predictions of other classifiers to get a prediction that is more accurate. With hard voting, the majority class's prediction serves as the outcome."
   ]
  },
  {
   "cell_type": "code",
   "execution_count": 63,
   "id": "f005a162",
   "metadata": {
    "scrolled": false
   },
   "outputs": [],
   "source": [
    "#Ensemble method for combining multiple classifiers\n",
    "from sklearn.ensemble import VotingClassifier\n",
    "\n",
    "# Model Classifiers Used\n",
    "from sklearn.tree import DecisionTreeClassifier\n",
    "from sklearn.ensemble import GradientBoostingClassifier\n",
    "from sklearn.ensemble import RandomForestClassifier\n",
    "\n",
    "#Initializing Classifiers\n",
    "dt_model = DecisionTreeClassifier(random_state=42)\n",
    "gb_model = GradientBoostingClassifier(random_state=42)\n",
    "rf_model = RandomForestClassifier(random_state=42)"
   ]
  },
  {
   "cell_type": "code",
   "execution_count": 64,
   "id": "4a3905cd",
   "metadata": {
    "scrolled": false
   },
   "outputs": [],
   "source": [
    "# Creating the hybrid model using the voting classifier\n",
    "hybrid_model = VotingClassifier(estimators=[('rf', rf_model), ('dt', dt_model),('gb', gb_model)], voting='hard')"
   ]
  },
  {
   "cell_type": "code",
   "execution_count": 65,
   "id": "330e3d07",
   "metadata": {},
   "outputs": [
    {
     "data": {
      "text/html": [
       "<style>#sk-container-id-3 {color: black;background-color: white;}#sk-container-id-3 pre{padding: 0;}#sk-container-id-3 div.sk-toggleable {background-color: white;}#sk-container-id-3 label.sk-toggleable__label {cursor: pointer;display: block;width: 100%;margin-bottom: 0;padding: 0.3em;box-sizing: border-box;text-align: center;}#sk-container-id-3 label.sk-toggleable__label-arrow:before {content: \"▸\";float: left;margin-right: 0.25em;color: #696969;}#sk-container-id-3 label.sk-toggleable__label-arrow:hover:before {color: black;}#sk-container-id-3 div.sk-estimator:hover label.sk-toggleable__label-arrow:before {color: black;}#sk-container-id-3 div.sk-toggleable__content {max-height: 0;max-width: 0;overflow: hidden;text-align: left;background-color: #f0f8ff;}#sk-container-id-3 div.sk-toggleable__content pre {margin: 0.2em;color: black;border-radius: 0.25em;background-color: #f0f8ff;}#sk-container-id-3 input.sk-toggleable__control:checked~div.sk-toggleable__content {max-height: 200px;max-width: 100%;overflow: auto;}#sk-container-id-3 input.sk-toggleable__control:checked~label.sk-toggleable__label-arrow:before {content: \"▾\";}#sk-container-id-3 div.sk-estimator input.sk-toggleable__control:checked~label.sk-toggleable__label {background-color: #d4ebff;}#sk-container-id-3 div.sk-label input.sk-toggleable__control:checked~label.sk-toggleable__label {background-color: #d4ebff;}#sk-container-id-3 input.sk-hidden--visually {border: 0;clip: rect(1px 1px 1px 1px);clip: rect(1px, 1px, 1px, 1px);height: 1px;margin: -1px;overflow: hidden;padding: 0;position: absolute;width: 1px;}#sk-container-id-3 div.sk-estimator {font-family: monospace;background-color: #f0f8ff;border: 1px dotted black;border-radius: 0.25em;box-sizing: border-box;margin-bottom: 0.5em;}#sk-container-id-3 div.sk-estimator:hover {background-color: #d4ebff;}#sk-container-id-3 div.sk-parallel-item::after {content: \"\";width: 100%;border-bottom: 1px solid gray;flex-grow: 1;}#sk-container-id-3 div.sk-label:hover label.sk-toggleable__label {background-color: #d4ebff;}#sk-container-id-3 div.sk-serial::before {content: \"\";position: absolute;border-left: 1px solid gray;box-sizing: border-box;top: 0;bottom: 0;left: 50%;z-index: 0;}#sk-container-id-3 div.sk-serial {display: flex;flex-direction: column;align-items: center;background-color: white;padding-right: 0.2em;padding-left: 0.2em;position: relative;}#sk-container-id-3 div.sk-item {position: relative;z-index: 1;}#sk-container-id-3 div.sk-parallel {display: flex;align-items: stretch;justify-content: center;background-color: white;position: relative;}#sk-container-id-3 div.sk-item::before, #sk-container-id-3 div.sk-parallel-item::before {content: \"\";position: absolute;border-left: 1px solid gray;box-sizing: border-box;top: 0;bottom: 0;left: 50%;z-index: -1;}#sk-container-id-3 div.sk-parallel-item {display: flex;flex-direction: column;z-index: 1;position: relative;background-color: white;}#sk-container-id-3 div.sk-parallel-item:first-child::after {align-self: flex-end;width: 50%;}#sk-container-id-3 div.sk-parallel-item:last-child::after {align-self: flex-start;width: 50%;}#sk-container-id-3 div.sk-parallel-item:only-child::after {width: 0;}#sk-container-id-3 div.sk-dashed-wrapped {border: 1px dashed gray;margin: 0 0.4em 0.5em 0.4em;box-sizing: border-box;padding-bottom: 0.4em;background-color: white;}#sk-container-id-3 div.sk-label label {font-family: monospace;font-weight: bold;display: inline-block;line-height: 1.2em;}#sk-container-id-3 div.sk-label-container {text-align: center;}#sk-container-id-3 div.sk-container {/* jupyter's `normalize.less` sets `[hidden] { display: none; }` but bootstrap.min.css set `[hidden] { display: none !important; }` so we also need the `!important` here to be able to override the default hidden behavior on the sphinx rendered scikit-learn.org. See: https://github.com/scikit-learn/scikit-learn/issues/21755 */display: inline-block !important;position: relative;}#sk-container-id-3 div.sk-text-repr-fallback {display: none;}</style><div id=\"sk-container-id-3\" class=\"sk-top-container\"><div class=\"sk-text-repr-fallback\"><pre>VotingClassifier(estimators=[(&#x27;rf&#x27;, RandomForestClassifier(random_state=42)),\n",
       "                             (&#x27;dt&#x27;, DecisionTreeClassifier(random_state=42)),\n",
       "                             (&#x27;gb&#x27;,\n",
       "                              GradientBoostingClassifier(random_state=42))])</pre><b>In a Jupyter environment, please rerun this cell to show the HTML representation or trust the notebook. <br />On GitHub, the HTML representation is unable to render, please try loading this page with nbviewer.org.</b></div><div class=\"sk-container\" hidden><div class=\"sk-item sk-dashed-wrapped\"><div class=\"sk-label-container\"><div class=\"sk-label sk-toggleable\"><input class=\"sk-toggleable__control sk-hidden--visually\" id=\"sk-estimator-id-9\" type=\"checkbox\" ><label for=\"sk-estimator-id-9\" class=\"sk-toggleable__label sk-toggleable__label-arrow\">VotingClassifier</label><div class=\"sk-toggleable__content\"><pre>VotingClassifier(estimators=[(&#x27;rf&#x27;, RandomForestClassifier(random_state=42)),\n",
       "                             (&#x27;dt&#x27;, DecisionTreeClassifier(random_state=42)),\n",
       "                             (&#x27;gb&#x27;,\n",
       "                              GradientBoostingClassifier(random_state=42))])</pre></div></div></div><div class=\"sk-parallel\"><div class=\"sk-parallel-item\"><div class=\"sk-item\"><div class=\"sk-label-container\"><div class=\"sk-label sk-toggleable\"><label>rf</label></div></div><div class=\"sk-serial\"><div class=\"sk-item\"><div class=\"sk-estimator sk-toggleable\"><input class=\"sk-toggleable__control sk-hidden--visually\" id=\"sk-estimator-id-10\" type=\"checkbox\" ><label for=\"sk-estimator-id-10\" class=\"sk-toggleable__label sk-toggleable__label-arrow\">RandomForestClassifier</label><div class=\"sk-toggleable__content\"><pre>RandomForestClassifier(random_state=42)</pre></div></div></div></div></div></div><div class=\"sk-parallel-item\"><div class=\"sk-item\"><div class=\"sk-label-container\"><div class=\"sk-label sk-toggleable\"><label>dt</label></div></div><div class=\"sk-serial\"><div class=\"sk-item\"><div class=\"sk-estimator sk-toggleable\"><input class=\"sk-toggleable__control sk-hidden--visually\" id=\"sk-estimator-id-11\" type=\"checkbox\" ><label for=\"sk-estimator-id-11\" class=\"sk-toggleable__label sk-toggleable__label-arrow\">DecisionTreeClassifier</label><div class=\"sk-toggleable__content\"><pre>DecisionTreeClassifier(random_state=42)</pre></div></div></div></div></div></div><div class=\"sk-parallel-item\"><div class=\"sk-item\"><div class=\"sk-label-container\"><div class=\"sk-label sk-toggleable\"><label>gb</label></div></div><div class=\"sk-serial\"><div class=\"sk-item\"><div class=\"sk-estimator sk-toggleable\"><input class=\"sk-toggleable__control sk-hidden--visually\" id=\"sk-estimator-id-12\" type=\"checkbox\" ><label for=\"sk-estimator-id-12\" class=\"sk-toggleable__label sk-toggleable__label-arrow\">GradientBoostingClassifier</label><div class=\"sk-toggleable__content\"><pre>GradientBoostingClassifier(random_state=42)</pre></div></div></div></div></div></div></div></div></div></div>"
      ],
      "text/plain": [
       "VotingClassifier(estimators=[('rf', RandomForestClassifier(random_state=42)),\n",
       "                             ('dt', DecisionTreeClassifier(random_state=42)),\n",
       "                             ('gb',\n",
       "                              GradientBoostingClassifier(random_state=42))])"
      ]
     },
     "execution_count": 65,
     "metadata": {},
     "output_type": "execute_result"
    }
   ],
   "source": [
    "# Fitting the voting classifier on the training data\n",
    "hybrid_model.fit(X_train, y_train)"
   ]
  },
  {
   "cell_type": "code",
   "execution_count": 66,
   "id": "8b149f13",
   "metadata": {
    "scrolled": true
   },
   "outputs": [],
   "source": [
    "# Making predictions on the test set\n",
    "predictions = hybrid_model.predict(X_test)"
   ]
  },
  {
   "cell_type": "code",
   "execution_count": 67,
   "id": "417afc24",
   "metadata": {
    "scrolled": true
   },
   "outputs": [
    {
     "name": "stdout",
     "output_type": "stream",
     "text": [
      "[2. 4. 1. ... 5. 5. 1.]\n"
     ]
    }
   ],
   "source": [
    "print(predictions)"
   ]
  },
  {
   "cell_type": "code",
   "execution_count": 68,
   "id": "e9507a74",
   "metadata": {
    "scrolled": false
   },
   "outputs": [
    {
     "name": "stdout",
     "output_type": "stream",
     "text": [
      "Accuracy:  0.8937021627973449\n"
     ]
    }
   ],
   "source": [
    "# Evaluating the hybrid model on the test set\n",
    "accuracy = hybrid_model.score(X_test, y_test)\n",
    "print(\"Accuracy: \", accuracy)"
   ]
  },
  {
   "cell_type": "code",
   "execution_count": 69,
   "id": "733acfa5",
   "metadata": {
    "scrolled": true
   },
   "outputs": [
    {
     "data": {
      "image/png": "[encoded data removed]",
      "text/plain": [
       "<Figure size 432x288 with 2 Axes>"
      ]
     },
     "metadata": {
      "needs_background": "light"
     },
     "output_type": "display_data"
    },
    {
     "name": "stdout",
     "output_type": "stream",
     "text": [
      "Accuracy score: 89.37021627973449\n",
      "Recall score: [0.94913609 0.65831616 0.41408985 0.89422941 0.99424293]\n",
      "Precision score: [0.90994416 0.77074438 0.74164054 0.83644441 0.96307516]\n",
      "              precision    recall  f1-score   support\n",
      "\n",
      "         1.0       0.91      0.95      0.93     36057\n",
      "         2.0       0.77      0.66      0.71     12614\n",
      "         3.0       0.74      0.41      0.53      6856\n",
      "         4.0       0.84      0.89      0.86     28212\n",
      "         5.0       0.96      0.99      0.98     42209\n",
      "\n",
      "    accuracy                           0.89    125948\n",
      "   macro avg       0.84      0.78      0.80    125948\n",
      "weighted avg       0.89      0.89      0.89    125948\n",
      "\n"
     ]
    }
   ],
   "source": [
    "# Creating a confusion matrix \n",
    "cf_matrix = confusion_matrix(y_test, predictions)\n",
    "\n",
    "sns.heatmap(cf_matrix, annot=True, fmt='d', cmap=\"Blues\")\n",
    "plt.xlabel(\"Predicted Label\")\n",
    "plt.ylabel(\"True Label\")\n",
    "plt.title(\"Confusion Matrix\",  weight='bold')\n",
    "plt.show()\n",
    "\n",
    "#Printing Accuracy, Recall and Precision Scores\n",
    "ac = accuracy_score(y_test, predictions)\n",
    "rs = recall_score(y_test, predictions, average=None)\n",
    "ps = precision_score(y_test, predictions, average=None)\n",
    "print(\"Accuracy score: \" + str(ac*100))\n",
    "print(\"Recall score: \" + str(rs))\n",
    "print(\"Precision score: \" + str(ps))\n",
    "\n",
    "# Print the evaluation of the model\n",
    "print(classification_report(y_test, predictions))"
   ]
  },
  {
   "cell_type": "markdown",
   "id": "77df4e34",
   "metadata": {},
   "source": [
    "## Export the Model"
   ]
  },
  {
   "cell_type": "code",
   "execution_count": 116,
   "id": "1f3c9498",
   "metadata": {},
   "outputs": [
    {
     "data": {
      "text/plain": [
       "['hybridmodel.joblib']"
      ]
     },
     "execution_count": 116,
     "metadata": {},
     "output_type": "execute_result"
    }
   ],
   "source": [
    "# Dump the model to a file\n",
    "joblib.dump(hybrid_model, 'hybridmodel.joblib')"
   ]
  }
 ],
 "metadata": {
  "kernelspec": {
   "display_name": "Python 3 (ipykernel)",
   "language": "python",
   "name": "python3"
  },
  "language_info": {
   "codemirror_mode": {
    "name": "ipython",
    "version": 3
   },
   "file_extension": ".py",
   "mimetype": "text/x-python",
   "name": "python",
   "nbconvert_exporter": "python",
   "pygments_lexer": "ipython3",
   "version": "3.9.12"
  }
 },
 "nbformat": 4,
 "nbformat_minor": 5
}
